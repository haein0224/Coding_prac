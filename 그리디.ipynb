{
  "nbformat": 4,
  "nbformat_minor": 0,
  "metadata": {
    "colab": {
      "name": "그리디.ipynb",
      "provenance": [],
      "collapsed_sections": [],
      "authorship_tag": "ABX9TyOO46TTSBP1DttZqrJz8LTA",
      "include_colab_link": true
    },
    "kernelspec": {
      "name": "python3",
      "display_name": "Python 3"
    },
    "language_info": {
      "name": "python"
    }
  },
  "cells": [
    {
      "cell_type": "markdown",
      "metadata": {
        "id": "view-in-github",
        "colab_type": "text"
      },
      "source": [
        "<a href=\"https://colab.research.google.com/github/haein0224/Coding_prac/blob/main/%EA%B7%B8%EB%A6%AC%EB%94%94.ipynb\" target=\"_parent\"><img src=\"https://colab.research.google.com/assets/colab-badge.svg\" alt=\"Open In Colab\"/></a>"
      ]
    },
    {
      "cell_type": "code",
      "source": [
        "import pandas as pd\n",
        "import numpy as np"
      ],
      "metadata": {
        "id": "WnJjHeJcWOxc"
      },
      "execution_count": null,
      "outputs": []
    },
    {
      "cell_type": "markdown",
      "source": [
        "# **이코테**"
      ],
      "metadata": {
        "id": "OrItpWglEgR1"
      }
    },
    {
      "cell_type": "markdown",
      "source": [
        "# 거스름돈"
      ],
      "metadata": {
        "id": "ldaPpsjcfZqL"
      }
    },
    {
      "cell_type": "code",
      "execution_count": null,
      "metadata": {
        "colab": {
          "base_uri": "https://localhost:8080/"
        },
        "id": "RZUyVDRhUii9",
        "outputId": "df2874b1-dff7-42f9-9453-abc2dd71a113"
      },
      "outputs": [
        {
          "output_type": "stream",
          "name": "stdout",
          "text": [
            "3090\n",
            "총 동전의 개수는 :  11 개\n",
            "각 동전의 개수는 : \n",
            "   coins  num\n",
            "0    500    6\n",
            "1    100    0\n",
            "2     50    1\n",
            "3     10    4\n"
          ]
        }
      ],
      "source": [
        "# 거스름돈 : 동전의 개수를 최소로\n",
        "n = int(input()) # 거슬러줘야할돈\n",
        "count = 0\n",
        "\n",
        "coins = [500, 100, 50, 10]\n",
        "\n",
        "num_coin = 0\n",
        "\n",
        "num_ = []\n",
        "\n",
        "for coin in coins : # 고려하는 동전의 종류만큼만 수행하면 됨 -> 시간 복잡도 : O(K)\n",
        "  num_.append(n//coin) # 개수\n",
        "  num_coin += n//coin # 개수 추가\n",
        "  n = n%coin # 나머지업데이트\n",
        "\n",
        "print('총 동전의 개수는 : ',num_coin, '개')\n",
        "print('각 동전의 개수는 : ',pd.DataFrame({'coins':coins, 'num':num_}), sep='\\n')"
      ]
    },
    {
      "cell_type": "code",
      "source": [
        "1260//500 # 몫"
      ],
      "metadata": {
        "colab": {
          "base_uri": "https://localhost:8080/"
        },
        "id": "N-E8edk-VPze",
        "outputId": "256662fa-53fe-43ee-93ca-f6e332a0f3c6"
      },
      "execution_count": null,
      "outputs": [
        {
          "output_type": "execute_result",
          "data": {
            "text/plain": [
              "2"
            ]
          },
          "metadata": {},
          "execution_count": 1
        }
      ]
    },
    {
      "cell_type": "code",
      "source": [
        "1260%500 # 나머지"
      ],
      "metadata": {
        "colab": {
          "base_uri": "https://localhost:8080/"
        },
        "id": "IHeSKwYoVQ9l",
        "outputId": "694987cb-9894-4d29-d02d-1cf0f001372a"
      },
      "execution_count": null,
      "outputs": [
        {
          "output_type": "execute_result",
          "data": {
            "text/plain": [
              "260"
            ]
          },
          "metadata": {},
          "execution_count": 2
        }
      ]
    },
    {
      "cell_type": "code",
      "source": [
        "260//500"
      ],
      "metadata": {
        "colab": {
          "base_uri": "https://localhost:8080/"
        },
        "id": "NNmFbSSuVT0x",
        "outputId": "6f8b0ade-6acd-49d7-eb1e-327a1da16476"
      },
      "execution_count": null,
      "outputs": [
        {
          "output_type": "execute_result",
          "data": {
            "text/plain": [
              "0"
            ]
          },
          "metadata": {},
          "execution_count": 3
        }
      ]
    },
    {
      "cell_type": "markdown",
      "source": [
        "# 큰수의법칙"
      ],
      "metadata": {
        "id": "j6_oo12DfSNx"
      }
    },
    {
      "cell_type": "code",
      "source": [
        "# 큰 수의 법칙\n",
        "# my answer\n",
        "n,m,k = input().split()\n",
        "num_list = list(input().split())\n",
        "\n",
        "n = int(n) # 배열의크기\n",
        "m = int(m) # 더해지는횟수\n",
        "k = int(k)# 연속해서 더해질 수 있는 횟수\n",
        "\n",
        "num_list = list(map(lambda x : int(x), num_list))\n",
        "num_list.sort() # 작은값부터 순서대로 정렬\n",
        "\n",
        "# 내 생각 큰 수 순서대로 두개만 있으면 됨..!\n",
        "first = num_list[-1]\n",
        "second = num_list[-2]\n",
        "\n",
        "# print(first*k*(m//(k+1)) + second*(m - k*(m//(k+1)))) : 틀림!!!!!!!\n",
        "\n",
        "# 맞는답\n",
        "# result = first*k*(m//(k+1)) + first * (m%(k+1)) + second*(m - k*(m//(k+1))) \n",
        "result = first * ( (k*(m//(k+1)) + m%(k+1) ) ) + second * (m//(k+1)) \n",
        "print(result)"
      ],
      "metadata": {
        "colab": {
          "base_uri": "https://localhost:8080/"
        },
        "id": "QjKdc7w7XJhl",
        "outputId": "3cda0452-72d9-41d6-b37d-38a388e0d102"
      },
      "execution_count": 1,
      "outputs": [
        {
          "output_type": "stream",
          "name": "stdout",
          "text": [
            "5 8 3\n",
            "2 4 5 4 6\n",
            "46\n"
          ]
        }
      ]
    },
    {
      "cell_type": "code",
      "source": [
        "# book ver.1\n",
        "# the simplest answer for 큰 수의 법칙\n",
        "\n",
        "# N, M, K를 공백으로 구분해 입력받기\n",
        "n, m, k = map(int, input().split())\n",
        "# N개의 수를 공백으로 구분해 입력받기\n",
        "data = list(map(int, input().split()))\n",
        "\n",
        "data.sort() # sorting\n",
        "first = data[-1] # the largest number\n",
        "second = data[-2]\n",
        "\n",
        "result = 0\n",
        "\n",
        "while True :\n",
        "  for i in range(k) : # 제일 큰 수 k번 덧샘 진행\n",
        "    if m == 0 : # m=0이면 반복문 탈출\n",
        "      break \n",
        "    result += first\n",
        "    m -= 1 # 더할때마다 1빼기\n",
        "  if m == 0 : # 남은횟수없으면 break\n",
        "    break\n",
        "  result += second # k번 더할때마다 두번째수 한번 더하기\n",
        "  m -= 1\n",
        "\n",
        "print(result)"
      ],
      "metadata": {
        "colab": {
          "base_uri": "https://localhost:8080/"
        },
        "id": "3dmftE6jTbPU",
        "outputId": "d6bf4c62-ea3b-433b-ab3d-8fdfe8900c2d"
      },
      "execution_count": null,
      "outputs": [
        {
          "output_type": "stream",
          "name": "stdout",
          "text": [
            "5 8 3\n",
            " 4 5 4 6\n",
            "46\n"
          ]
        }
      ]
    },
    {
      "cell_type": "code",
      "source": [
        "# book ver.1\n",
        "# efficient answer for 큰수의법칙\n",
        "n, m, k = map(int, input().split())\n",
        "\n",
        "data = list(map(int, input().split()))\n",
        "\n",
        "data.sort()\n",
        "first = data[-1]\n",
        "second = data[-2]\n",
        "\n",
        "# 가장 큰 수가 더해지는 횟수\n",
        "count = m//(k+1)*k # 몫*반복가능한수만큼\n",
        "count += m%(k+1) # 나머지만큼 추가로 더해줌\n",
        "\n",
        "result = count*first + (m-count)*second # 남은 횟수만큼 두번째로 큰 수 더하기\n",
        "\n",
        "print(result)"
      ],
      "metadata": {
        "colab": {
          "base_uri": "https://localhost:8080/"
        },
        "id": "99mHaRRRXnrl",
        "outputId": "cf14b04c-b6e6-4465-92d1-136d91e341b7"
      },
      "execution_count": null,
      "outputs": [
        {
          "output_type": "stream",
          "name": "stdout",
          "text": [
            "5 8 3\n",
            "2 4 5 4 6\n",
            "46\n"
          ]
        }
      ]
    },
    {
      "cell_type": "markdown",
      "source": [
        "# 숫자 카드 게임\n",
        "- 전략 : 행별 최소값을 찾고, 그중에 최대값이있는 행을 선택\n",
        "- 궁금증 : 행렬 input을 한줄씩 들어오는데 이를 어떻게 받아야하는가 \n",
        "- 해결법 : for문으로 행 개수만큼 받는다. \n"
      ],
      "metadata": {
        "id": "6QoB9k3PfRIw"
      }
    },
    {
      "cell_type": "code",
      "source": [
        "n, m = map(int, input().split())\n",
        "\n",
        "min_list = []\n",
        "\n",
        "for nth in range(n) :\n",
        "  nums = list(map(int, input().split()))\n",
        "  min_list.append(min(nums))\n",
        "\n",
        "result = max(min_list)\n",
        "print(result)"
      ],
      "metadata": {
        "colab": {
          "base_uri": "https://localhost:8080/"
        },
        "id": "X9qiz_Gsclvo",
        "outputId": "2b9614de-2520-4c17-a8d0-5f834ecb0523"
      },
      "execution_count": null,
      "outputs": [
        {
          "output_type": "stream",
          "name": "stdout",
          "text": [
            "2 4 \n",
            "7 3 1 8\n",
            "3 3 3 4\n",
            "3\n"
          ]
        }
      ]
    },
    {
      "cell_type": "code",
      "source": [
        "# book ver.\n",
        "# 굳이 append하지않고, 때마다 하나씩 업데이트\n",
        "n,m = map(int, input().split())\n",
        "\n",
        "result = 0\n",
        "\n",
        "for i in range(n) :\n",
        "  data = list(map(int, input().split()))\n",
        "  min_value = min(data)\n",
        "  result = max(result, min_value) # 큰 값으로 업데이트 진행\n",
        "\n",
        "print(result)\n"
      ],
      "metadata": {
        "colab": {
          "base_uri": "https://localhost:8080/"
        },
        "id": "jKj1u-G3iUZn",
        "outputId": "2f6abde1-a606-462c-fbb0-9d4807bdb5a9"
      },
      "execution_count": null,
      "outputs": [
        {
          "output_type": "stream",
          "name": "stdout",
          "text": [
            "2 4\n",
            "7 3 1 8\n",
            "3 3 3 4\n",
            "3\n"
          ]
        }
      ]
    },
    {
      "cell_type": "markdown",
      "source": [
        "# 1이 될때까지\n",
        "- n : 어떠한 수 (1 <= n <= 100000)\n",
        "- k : 나눌떄 사용할 수 (2 <= k <= 100000)"
      ],
      "metadata": {
        "id": "q4zPNmh6a3FA"
      }
    },
    {
      "cell_type": "code",
      "source": [
        "# my answer\n",
        "# 이 경우는 n을 \n",
        "# 반복 횟수에 따라서 시간 복잡도가 높아진다는 단점있음\n",
        "n, k = map(int, input().split()) \n",
        "\n",
        "count = 0 # OUTPUT\n",
        "# 첫번째 : -1\n",
        "# 두번째 : /K\n",
        "\n",
        "while n != 1 :\n",
        "  if n%k != 0 :\n",
        "    count +=1\n",
        "    n -= 1\n",
        "  else : \n",
        "    count += 1\n",
        "    n = n/k\n",
        "\n",
        "print(count)"
      ],
      "metadata": {
        "id": "R32_G3Z2inZD",
        "colab": {
          "base_uri": "https://localhost:8080/"
        },
        "outputId": "90380a41-0f42-48bb-9e3a-3baf20132621"
      },
      "execution_count": 5,
      "outputs": [
        {
          "output_type": "stream",
          "name": "stdout",
          "text": [
            "17 4\n",
            "3\n"
          ]
        }
      ]
    },
    {
      "cell_type": "code",
      "source": [
        "# book ver.\n",
        "# 아이디어 : k 로 나눠서 떨어지는 값을 찾고, 여기에 도달하기 위해 -1을 수행해야하는 횟수도 따로 지정해 필요한 연산횟수를 확 줄이는 테크닉\n",
        "# 시간 복잡도 측면에서는 log 복잡도를 가지기 때문에 훨씬 빠름\n",
        "\n",
        "n, k = map(int, input().split())\n",
        "\n",
        "result = 0\n",
        "\n",
        "while True :\n",
        "  target = (n//k) * k # 나눠 떨어지게하기 위해서 몇이 되어야할지\n",
        "  result += n - (target) +1\n",
        "  n //= k # n을 몫으로 업데이트\n",
        "  if n//k == 0 :\n",
        "    break\n",
        "\n",
        "result += n-1 # 1이 되도록 -1을 수행\n",
        "\n",
        "print(result)"
      ],
      "metadata": {
        "colab": {
          "base_uri": "https://localhost:8080/"
        },
        "id": "8bhCtawQl1ge",
        "outputId": "1cb2ed65-9aa4-4cfb-fa6b-55fb2571889c"
      },
      "execution_count": 35,
      "outputs": [
        {
          "output_type": "stream",
          "name": "stdout",
          "text": [
            "17 4\n",
            "3\n"
          ]
        }
      ]
    },
    {
      "cell_type": "markdown",
      "source": [
        "# 곱하기 혹은 더하기\n",
        "\n",
        "문자열 왼쪽부터 + 또는 * 를 수행해서 만들수있는 가장 큰 수 생성하기 "
      ],
      "metadata": {
        "id": "r6ZUXM93sqQh"
      }
    },
    {
      "cell_type": "code",
      "source": [
        "# s = list(map(int, input().split(''))) : 틀림 ) 문자열로 들어왔을때 이렇게 하면 split되지않음..!\n",
        "\n",
        "s = str(input())\n",
        "\n",
        "s_len = len(s) # 길이\n",
        "\n",
        "result = 0\n",
        "\n",
        "for i in range(s_len) :\n",
        "  right = int(s[i])\n",
        "  # if right == 0 : # 덧셈을하는게 좋은 경우는 0일때뿐이 아님!! 1일때도 마찬가지! 그리고 현재까지의 결과가 0일 경우에도 곱셈은 안됨!\n",
        "  #if (right == 0 or right == 1) or  result == 0:\n",
        "  if right <= 1 or result == 0 :\n",
        "    result += right\n",
        "    #print('if', result)\n",
        "  else :\n",
        "    result *= right\n",
        "    #print('else',result)\n",
        "  #print(i)\n",
        "\n",
        "print(result)\n",
        "\n"
      ],
      "metadata": {
        "colab": {
          "base_uri": "https://localhost:8080/"
        },
        "id": "2p8Hea6qn00C",
        "outputId": "8c7ad888-63bc-41a9-be04-e3b0a1e9aec2"
      },
      "execution_count": 58,
      "outputs": [
        {
          "output_type": "stream",
          "name": "stdout",
          "text": [
            "02984\n",
            "576\n"
          ]
        }
      ]
    },
    {
      "cell_type": "markdown",
      "source": [
        "# 모험가 길드\n",
        "- n명의 모험가\n",
        "- 각각은 공포도 x를 가지고, 개개인은 x명 이상이 모여야 출발가능\n",
        "- 떠날 수 있는 그룹의 최대값을 구하고자함 \n"
      ],
      "metadata": {
        "id": "cZUw7RNH_D9k"
      }
    },
    {
      "cell_type": "code",
      "source": [
        "# my answer\n",
        "n = int(input())\n",
        "\n",
        "sc_list = list(map(int, input().split()))\n",
        "\n",
        "sc_list.sort() # 공포도 작은 사람부터 정렬\n",
        "# idx = list(range(len(sc_list)+1))\n",
        "result = 0\n",
        "count = 1\n",
        "\n",
        "for i in range(len(sc_list)) : # book ver. 내 답도 맞는데 디테일!! 파이썬에서는 list를 그대로 for문에 넣을 수 ㅇ # for i in sc_list로 해도됨!\n",
        "  if count >= sc_list[i] :\n",
        "    result += 1\n",
        "    count = 1 # 그룹에 속할 사람 리셋\n",
        "  else :\n",
        "    count +=1\n",
        "\n",
        "print(result)"
      ],
      "metadata": {
        "colab": {
          "base_uri": "https://localhost:8080/"
        },
        "id": "GryNBZag4yFz",
        "outputId": "203ce8e3-43d1-4e23-e360-00f8af4df7ce"
      },
      "execution_count": 70,
      "outputs": [
        {
          "output_type": "stream",
          "name": "stdout",
          "text": [
            "5\n",
            "2 3 1 2 2\n",
            "2\n"
          ]
        }
      ]
    },
    {
      "cell_type": "markdown",
      "source": [
        "# ***백준***\n",
        "\n",
        "https://www.acmicpc.net/workbook/view/4380"
      ],
      "metadata": {
        "id": "y6uIGXS7Eig-"
      }
    },
    {
      "cell_type": "markdown",
      "source": [
        "라면매니아 교준이네 집 주변에는 N개의 라면 공장이 있다. \n",
        "\n",
        "각 공장은 1번부터 N번까지 차례대로 번호가 부여되어 있다. 교준이는 i번 공장에서 정확하게 Ai개의 라면을 구매하고자 한다(1 ≤ i ≤ N).\n",
        "\n",
        "교준이는 아래의 세 가지 방법으로 라면을 구매할 수 있다.\n",
        "\n",
        "1. i번 공장에서 라면을 하나 구매한다(1 ≤ i ≤ N). 이 경우 비용은 3원이 든다.\n",
        "i번 공장과 (i+1)번 공장에서 각각 라면을 하나씩 구매한다(1 ≤ i ≤ N-1). 이 경우 비용은 5원이 든다.\n",
        "\n",
        "2. i번 공장과 (i+1)번 공장, (i+2)번 공장에서 각각 라면을 하나씩 구매한다(1 ≤ i ≤ N-2). 이 경우 비용은 7원이 든다.\n",
        "\n",
        "3. 최소의 비용으로 라면을 구매하고자 할 때, 교준이가 필요한 금액을 출력하는 프로그램을 작성하시오."
      ],
      "metadata": {
        "id": "OCdortKjIh2a"
      }
    },
    {
      "cell_type": "code",
      "source": [
        "n = int(input())\n",
        "\n"
      ],
      "metadata": {
        "id": "cYIEArOwB5aW"
      },
      "execution_count": null,
      "outputs": []
    }
  ]
}