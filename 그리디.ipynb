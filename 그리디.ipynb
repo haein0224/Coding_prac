{
  "nbformat": 4,
  "nbformat_minor": 0,
  "metadata": {
    "colab": {
      "name": "그리디.ipynb",
      "provenance": [],
      "collapsed_sections": [],
      "authorship_tag": "ABX9TyOIVTMhewM91XIYYN3mhrbB",
      "include_colab_link": true
    },
    "kernelspec": {
      "name": "python3",
      "display_name": "Python 3"
    },
    "language_info": {
      "name": "python"
    }
  },
  "cells": [
    {
      "cell_type": "markdown",
      "metadata": {
        "id": "view-in-github",
        "colab_type": "text"
      },
      "source": [
        "<a href=\"https://colab.research.google.com/github/haein0224/Coding_prac/blob/main/%EA%B7%B8%EB%A6%AC%EB%94%94.ipynb\" target=\"_parent\"><img src=\"https://colab.research.google.com/assets/colab-badge.svg\" alt=\"Open In Colab\"/></a>"
      ]
    },
    {
      "cell_type": "code",
      "source": [
        "import pandas as pd\n",
        "import numpy as np"
      ],
      "metadata": {
        "id": "WnJjHeJcWOxc"
      },
      "execution_count": 9,
      "outputs": []
    },
    {
      "cell_type": "markdown",
      "source": [
        "# 거스름돈"
      ],
      "metadata": {
        "id": "ldaPpsjcfZqL"
      }
    },
    {
      "cell_type": "code",
      "execution_count": null,
      "metadata": {
        "colab": {
          "base_uri": "https://localhost:8080/"
        },
        "id": "RZUyVDRhUii9",
        "outputId": "df2874b1-dff7-42f9-9453-abc2dd71a113"
      },
      "outputs": [
        {
          "output_type": "stream",
          "name": "stdout",
          "text": [
            "3090\n",
            "총 동전의 개수는 :  11 개\n",
            "각 동전의 개수는 : \n",
            "   coins  num\n",
            "0    500    6\n",
            "1    100    0\n",
            "2     50    1\n",
            "3     10    4\n"
          ]
        }
      ],
      "source": [
        "# 거스름돈 : 동전의 개수를 최소로\n",
        "n = int(input()) # 거슬러줘야할돈\n",
        "count = 0\n",
        "\n",
        "coins = [500, 100, 50, 10]\n",
        "\n",
        "num_coin = 0\n",
        "\n",
        "num_ = []\n",
        "\n",
        "for coin in coins : # 고려하는 동전의 종류만큼만 수행하면 됨 -> 시간 복잡도 : O(K)\n",
        "  num_.append(n//coin) # 개수\n",
        "  num_coin += n//coin # 개수 추가\n",
        "  n = n%coin # 나머지업데이트\n",
        "\n",
        "print('총 동전의 개수는 : ',num_coin, '개')\n",
        "print('각 동전의 개수는 : ',pd.DataFrame({'coins':coins, 'num':num_}), sep='\\n')"
      ]
    },
    {
      "cell_type": "code",
      "source": [
        "1260//500 # 몫"
      ],
      "metadata": {
        "colab": {
          "base_uri": "https://localhost:8080/"
        },
        "id": "N-E8edk-VPze",
        "outputId": "256662fa-53fe-43ee-93ca-f6e332a0f3c6"
      },
      "execution_count": null,
      "outputs": [
        {
          "output_type": "execute_result",
          "data": {
            "text/plain": [
              "2"
            ]
          },
          "metadata": {},
          "execution_count": 1
        }
      ]
    },
    {
      "cell_type": "code",
      "source": [
        "1260%500 # 나머지"
      ],
      "metadata": {
        "colab": {
          "base_uri": "https://localhost:8080/"
        },
        "id": "IHeSKwYoVQ9l",
        "outputId": "694987cb-9894-4d29-d02d-1cf0f001372a"
      },
      "execution_count": null,
      "outputs": [
        {
          "output_type": "execute_result",
          "data": {
            "text/plain": [
              "260"
            ]
          },
          "metadata": {},
          "execution_count": 2
        }
      ]
    },
    {
      "cell_type": "code",
      "source": [
        "260//500"
      ],
      "metadata": {
        "colab": {
          "base_uri": "https://localhost:8080/"
        },
        "id": "NNmFbSSuVT0x",
        "outputId": "6f8b0ade-6acd-49d7-eb1e-327a1da16476"
      },
      "execution_count": null,
      "outputs": [
        {
          "output_type": "execute_result",
          "data": {
            "text/plain": [
              "0"
            ]
          },
          "metadata": {},
          "execution_count": 3
        }
      ]
    },
    {
      "cell_type": "markdown",
      "source": [
        "# 큰수의법칙"
      ],
      "metadata": {
        "id": "j6_oo12DfSNx"
      }
    },
    {
      "cell_type": "code",
      "source": [
        "# 큰 수의 법칙\n",
        "# my answer\n",
        "n,m,k = input().split()\n",
        "num_list = list(input().split())\n",
        "\n",
        "n = int(n) # 배열의크기\n",
        "m = int(m) # 더해지는횟수\n",
        "k = int(k)# 연속해서 더해질 수 있는 횟수\n",
        "\n",
        "num_list = list(map(lambda x : int(x), num_list))\n",
        "num_list.sort() # 작은값부터 순서대로 정렬\n",
        "\n",
        "# 내 생각 큰 수 순서대로 두개만 있으면 됨..!\n",
        "first = num_list[-1]\n",
        "second = num_list[-2]\n",
        "\n",
        "# print(first*k*(m//(k+1)) + second*(m - k*(m//(k+1)))) : 이것만쓰면틀림!!!!!!! 나눗셈하고 나머지에대한 부분이 빠졌음 -> 하단의 efficient answer 참조\n",
        "# 맞는답\n",
        "result = first*k*(m//(k+1)) + first * (m%(k+1)) + second*(m - k*(m//(k+1)))\n",
        "print(result)"
      ],
      "metadata": {
        "colab": {
          "base_uri": "https://localhost:8080/"
        },
        "id": "QjKdc7w7XJhl",
        "outputId": "f7323243-40b4-417f-8614-6c1a50e652ef"
      },
      "execution_count": 53,
      "outputs": [
        {
          "output_type": "stream",
          "name": "stdout",
          "text": [
            "5 8 3\n",
            "2 4 5 4 6\n",
            "46\n"
          ]
        }
      ]
    },
    {
      "cell_type": "code",
      "source": [
        "# 위에서 답이 맞다고 간과한 이유\n",
        "m%(k+1)"
      ],
      "metadata": {
        "colab": {
          "base_uri": "https://localhost:8080/"
        },
        "id": "N_tVdHbrck4X",
        "outputId": "22ba769b-f754-464f-b0a0-e2db60e34ff1"
      },
      "execution_count": 52,
      "outputs": [
        {
          "output_type": "execute_result",
          "data": {
            "text/plain": [
              "0"
            ]
          },
          "metadata": {},
          "execution_count": 52
        }
      ]
    },
    {
      "cell_type": "code",
      "source": [
        "# book ver.1\n",
        "# the simplest answer for 큰 수의 법칙\n",
        "\n",
        "# N, M, K를 공백으로 구분해 입력받기\n",
        "n, m, k = map(int, input().split())\n",
        "# N개의 수를 공백으로 구분해 입력받기\n",
        "data = list(map(int, input().split()))\n",
        "\n",
        "data.sort() # sorting\n",
        "first = data[-1] # the largest number\n",
        "second = data[-2]\n",
        "\n",
        "result = 0\n",
        "\n",
        "while True :\n",
        "  for i in range(k) : # 제일 큰 수 k번 덧샘 진행\n",
        "    if m == 0 : # m=0이면 반복문 탈출\n",
        "      break \n",
        "    result += first\n",
        "    m -= 1 # 더할때마다 1빼기\n",
        "  if m == 0 : # 남은횟수없으면 break\n",
        "    break\n",
        "  result += second # k번 더할때마다 두번째수 한번 더하기\n",
        "  m -= 1\n",
        "\n",
        "print(result)"
      ],
      "metadata": {
        "colab": {
          "base_uri": "https://localhost:8080/"
        },
        "id": "3dmftE6jTbPU",
        "outputId": "d6bf4c62-ea3b-433b-ab3d-8fdfe8900c2d"
      },
      "execution_count": 54,
      "outputs": [
        {
          "output_type": "stream",
          "name": "stdout",
          "text": [
            "5 8 3\n",
            " 4 5 4 6\n",
            "46\n"
          ]
        }
      ]
    },
    {
      "cell_type": "code",
      "source": [
        "# book ver.1\n",
        "# efficient answer for 큰수의법칙\n",
        "n, m, k = map(int, input().split())\n",
        "\n",
        "data = list(map(int, input().split()))\n",
        "\n",
        "data.sort()\n",
        "first = data[-1]\n",
        "second = data[-2]\n",
        "\n",
        "# 가장 큰 수가 더해지는 횟수\n",
        "count = m//(k+1)*k # 몫*반복가능한수만큼\n",
        "count += m%(k+1) # 나머지만큼 추가로 더해줌\n",
        "\n",
        "result = count*first + (m-count)*second # 남은 횟수만큼 두번째로 큰 수 더하기\n",
        "\n",
        "print(result)"
      ],
      "metadata": {
        "colab": {
          "base_uri": "https://localhost:8080/"
        },
        "id": "99mHaRRRXnrl",
        "outputId": "cf14b04c-b6e6-4465-92d1-136d91e341b7"
      },
      "execution_count": 50,
      "outputs": [
        {
          "output_type": "stream",
          "name": "stdout",
          "text": [
            "5 8 3\n",
            "2 4 5 4 6\n",
            "46\n"
          ]
        }
      ]
    },
    {
      "cell_type": "markdown",
      "source": [
        "# 숫자 카드 게임\n",
        "- 전략 : 행별 최소값을 찾고, 그중에 최대값이있는 행을 선택\n",
        "- 궁금증 : 행렬 input을 한줄씩 들어오는데 이를 어떻게 받아야하는가 \n",
        "- 해결법 : for문으로 행 개수만큼 받는다. \n"
      ],
      "metadata": {
        "id": "6QoB9k3PfRIw"
      }
    },
    {
      "cell_type": "code",
      "source": [
        "n, m = map(int, input().split())\n",
        "\n",
        "min_list = []\n",
        "\n",
        "for nth in range(n) :\n",
        "  nums = list(map(int, input().split()))\n",
        "  min_list.append(min(nums))\n",
        "\n",
        "result = max(min_list)\n",
        "print(result)"
      ],
      "metadata": {
        "colab": {
          "base_uri": "https://localhost:8080/"
        },
        "id": "X9qiz_Gsclvo",
        "outputId": "2b9614de-2520-4c17-a8d0-5f834ecb0523"
      },
      "execution_count": 66,
      "outputs": [
        {
          "output_type": "stream",
          "name": "stdout",
          "text": [
            "2 4 \n",
            "7 3 1 8\n",
            "3 3 3 4\n",
            "3\n"
          ]
        }
      ]
    },
    {
      "cell_type": "code",
      "source": [
        "# book ver.\n",
        "# 굳이 append하지않고, 때마다 하나씩 업데이트\n",
        "n,m = map(int, input().split())\n",
        "\n",
        "result = 0\n",
        "\n",
        "for i in range(n) :\n",
        "  data = list(map(int, input().split()))\n",
        "  min_value = min(data)\n",
        "  result = max(result, min_value) # 큰 값으로 업데이트 진행\n",
        "\n",
        "print(result)\n"
      ],
      "metadata": {
        "colab": {
          "base_uri": "https://localhost:8080/"
        },
        "id": "jKj1u-G3iUZn",
        "outputId": "2f6abde1-a606-462c-fbb0-9d4807bdb5a9"
      },
      "execution_count": 68,
      "outputs": [
        {
          "output_type": "stream",
          "name": "stdout",
          "text": [
            "2 4\n",
            "7 3 1 8\n",
            "3 3 3 4\n",
            "3\n"
          ]
        }
      ]
    },
    {
      "cell_type": "code",
      "source": [
        ""
      ],
      "metadata": {
        "id": "R32_G3Z2inZD"
      },
      "execution_count": null,
      "outputs": []
    }
  ]
}