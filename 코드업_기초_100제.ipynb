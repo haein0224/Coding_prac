{
  "cells": [
    {
      "cell_type": "markdown",
      "metadata": {
        "id": "view-in-github",
        "colab_type": "text"
      },
      "source": [
        "<a href=\"https://colab.research.google.com/github/haein0224/Coding_prac/blob/main/%EC%BD%94%EB%93%9C%EC%97%85_%EA%B8%B0%EC%B4%88_100%EC%A0%9C.ipynb\" target=\"_parent\"><img src=\"https://colab.research.google.com/assets/colab-badge.svg\" alt=\"Open In Colab\"/></a>"
      ]
    },
    {
      "cell_type": "code",
      "execution_count": null,
      "id": "8ac218b8",
      "metadata": {
        "scrolled": true,
        "id": "8ac218b8",
        "outputId": "f2b77727-5b02-4219-b0a6-da9aa4c86fef"
      },
      "outputs": [
        {
          "name": "stdout",
          "output_type": "stream",
          "text": [
            "a\n",
            "b\n",
            "b\n",
            "a\n"
          ]
        }
      ],
      "source": [
        "a = input()\n",
        "b = input()\n",
        "\n",
        "print(b,a,sep='\\n')"
      ]
    },
    {
      "cell_type": "code",
      "execution_count": null,
      "id": "91178f6e",
      "metadata": {
        "id": "91178f6e",
        "outputId": "ee89dac9-6efd-472a-f4a8-925b82ac5209"
      },
      "outputs": [
        {
          "name": "stdout",
          "output_type": "stream",
          "text": [
            "1 2\n",
            "1\n",
            "2\n"
          ]
        }
      ],
      "source": [
        "a,b = input().split()\n",
        "\n",
        "print(a,b,sep='\\n')"
      ]
    },
    {
      "cell_type": "code",
      "execution_count": null,
      "id": "ceaa7a00",
      "metadata": {
        "scrolled": true,
        "id": "ceaa7a00",
        "outputId": "9733598b-615f-46de-e28d-3bd858e57ba0"
      },
      "outputs": [
        {
          "name": "stdout",
          "output_type": "stream",
          "text": [
            "a b\n",
            "b a\n"
          ]
        }
      ],
      "source": [
        "a,b = input().split()\n",
        "\n",
        "print(b,a)"
      ]
    },
    {
      "cell_type": "code",
      "execution_count": null,
      "id": "fca2c4ef",
      "metadata": {
        "id": "fca2c4ef",
        "outputId": "a7c26997-139a-4429-ee62-7941f57965f1"
      },
      "outputs": [
        {
          "name": "stdout",
          "output_type": "stream",
          "text": [
            "16:24\n",
            "16:24\n"
          ]
        }
      ],
      "source": [
        "a = input()\n",
        "\n",
        "print(a)"
      ]
    },
    {
      "cell_type": "code",
      "execution_count": null,
      "id": "b5346888",
      "metadata": {
        "id": "b5346888",
        "outputId": "94f64681-2833-44d1-8d26-b4ce20bf1ea8"
      },
      "outputs": [
        {
          "name": "stdout",
          "output_type": "stream",
          "text": [
            "2022.12.31\n",
            "31-12-2022\n"
          ]
        }
      ],
      "source": [
        "a,b,c = input().split('.')\n",
        "\n",
        "print(c,b,a,sep='-')"
      ]
    },
    {
      "cell_type": "code",
      "execution_count": null,
      "id": "23a36015",
      "metadata": {
        "id": "23a36015",
        "outputId": "fdbe87c0-c0c6-4a9a-925a-0a2a1d72bbd7"
      },
      "outputs": [
        {
          "name": "stdout",
          "output_type": "stream",
          "text": [
            "Hello\n",
            "H\n",
            "e\n",
            "l\n",
            "l\n",
            "o\n"
          ]
        }
      ],
      "source": [
        "a=input()\n",
        "for i in range(0,len(a)) :\n",
        "    print(a[i])"
      ]
    },
    {
      "cell_type": "code",
      "execution_count": null,
      "id": "49f89e1c",
      "metadata": {
        "id": "49f89e1c",
        "outputId": "ea9d94ad-5b4e-460a-a07f-5174e4cc9b59"
      },
      "outputs": [
        {
          "data": {
            "text/plain": [
              "5"
            ]
          },
          "execution_count": 14,
          "metadata": {},
          "output_type": "execute_result"
        }
      ],
      "source": [
        "a = 'Hello'\n",
        "len(a)"
      ]
    },
    {
      "cell_type": "code",
      "execution_count": null,
      "id": "50ac453a",
      "metadata": {
        "id": "50ac453a",
        "outputId": "485051c3-c48f-46c5-e8c9-b5907338762d"
      },
      "outputs": [
        {
          "name": "stdout",
          "output_type": "stream",
          "text": [
            "220224\n",
            "22 02 24\n"
          ]
        }
      ],
      "source": [
        "a = input()\n",
        "print(a[0:2],a[2:4],a[4:6])"
      ]
    },
    {
      "cell_type": "code",
      "execution_count": null,
      "id": "de6767e4",
      "metadata": {
        "id": "de6767e4",
        "outputId": "bfe35a61-d29a-4ba6-c8c5-9e1b22394bce"
      },
      "outputs": [
        {
          "name": "stdout",
          "output_type": "stream",
          "text": [
            "a b\n",
            "ab\n"
          ]
        }
      ],
      "source": [
        "a = input()\n",
        "print(a.replace(\" \",\"\"))"
      ]
    },
    {
      "cell_type": "code",
      "execution_count": null,
      "id": "d0217fc0",
      "metadata": {
        "id": "d0217fc0",
        "outputId": "e053b17a-45e3-467c-b531-17514f343756"
      },
      "outputs": [
        {
          "name": "stdout",
          "output_type": "stream",
          "text": [
            "123 -123\n",
            "246.0\n"
          ]
        }
      ],
      "source": [
        "a, b = input().split()\n",
        "print(float(a)-float(b))"
      ]
    },
    {
      "cell_type": "code",
      "execution_count": null,
      "id": "fbed49cc",
      "metadata": {
        "id": "fbed49cc",
        "outputId": "eab0ad0d-4194-4d21-834d-d0ada53b9ec5"
      },
      "outputs": [
        {
          "name": "stdout",
          "output_type": "stream",
          "text": [
            "10000 0.0001\n",
            "100000000.000\n"
          ]
        }
      ],
      "source": [
        "# 0643\n",
        "a,b = input().split()\n",
        "res = float(a)/float(b)\n",
        "print(f\"{res : .3f}\".strip())"
      ]
    },
    {
      "cell_type": "code",
      "execution_count": null,
      "id": "515030cd",
      "metadata": {
        "id": "515030cd",
        "outputId": "355088e4-4701-4596-ee5b-e030a8cfa554"
      },
      "outputs": [
        {
          "name": "stdout",
          "output_type": "stream",
          "text": [
            "10 3\n",
            "13\n",
            "7\n",
            "30\n",
            "3\n",
            "1\n",
            "3.33\n"
          ]
        }
      ],
      "source": [
        "a, b = input().split()\n",
        "a = int(a)\n",
        "b = int(b)\n",
        "print(a+b, a-b, a*b, a//b, a%b, f\"{a/b : .2f}\".strip(), sep='\\n')"
      ]
    },
    {
      "cell_type": "code",
      "execution_count": null,
      "id": "039df3a7",
      "metadata": {
        "id": "039df3a7",
        "outputId": "c79f767a-a845-4e66-849e-2dab36172461"
      },
      "outputs": [
        {
          "name": "stdout",
          "output_type": "stream",
          "text": [
            "1 2 3\n",
            "6 2.00\n"
          ]
        }
      ],
      "source": [
        "a,b,c = input().split()\n",
        "a = int(a)\n",
        "b = int(b)\n",
        "c = int(c)\n",
        "\n",
        "\n",
        "print(a+b+c, f\"{ sum([a,b,c])/len([a,b,c]): .2f}\".strip())"
      ]
    },
    {
      "cell_type": "code",
      "execution_count": null,
      "id": "4b5d747f",
      "metadata": {
        "id": "4b5d747f",
        "outputId": "73366618-9ad7-415d-e7b0-9e620c1a4db5"
      },
      "outputs": [
        {
          "name": "stdout",
          "output_type": "stream",
          "text": [
            "Z\n",
            "what?\n"
          ]
        }
      ],
      "source": [
        "a = input()\n",
        "\n",
        "if (a == \"A\") : print(\"best!!!\")\n",
        "elif (a=='B') : print(\"good!!\")\n",
        "elif (a=='C') : print(\"run!\")\n",
        "elif (a=='D') : print(\"slowly~\")\n",
        "else : print(\"what?\")      "
      ]
    },
    {
      "cell_type": "code",
      "execution_count": null,
      "id": "8ea498e8",
      "metadata": {
        "id": "8ea498e8",
        "outputId": "a4752555-036b-4740-ca8e-1e62f539a637"
      },
      "outputs": [
        {
          "name": "stdout",
          "output_type": "stream",
          "text": [
            "3\n",
            "4\n"
          ]
        }
      ],
      "source": [
        "# 홀수의 합을 출력\n",
        "n = int(input()) \n",
        "s = 0 \n",
        "for i in range(1, n+1) : \n",
        "  if i%2==1 : \n",
        "    s += i \n",
        "\n",
        "print(s)"
      ]
    },
    {
      "cell_type": "code",
      "execution_count": null,
      "id": "b468abf5",
      "metadata": {
        "id": "b468abf5",
        "outputId": "7c5b95cd-29f8-449c-8232-fb6412091980"
      },
      "outputs": [
        {
          "name": "stdout",
          "output_type": "stream",
          "text": [
            "5\n",
            "6\n"
          ]
        }
      ],
      "source": [
        "# 짝수의 합을 출력\n",
        "n = int(input())\n",
        "s = 0\n",
        "for i in range(1,n+1) :\n",
        "    if i%2 == 0 :\n",
        "        s += i\n",
        "        \n",
        "print(s)"
      ]
    },
    {
      "cell_type": "code",
      "execution_count": null,
      "id": "1abd339d",
      "metadata": {
        "id": "1abd339d",
        "outputId": "a8925099-fc34-4f84-d1cd-db22d5c667ab"
      },
      "outputs": [
        {
          "name": "stdout",
          "output_type": "stream",
          "text": [
            "q\n",
            "q\n"
          ]
        }
      ],
      "source": [
        "a = input()\n",
        "if ( a == 'q') : print(a)\n",
        "while(a != 'q') :\n",
        "    print(a)\n",
        "    a = input()\n",
        "    if ( a == 'q') : print(a)"
      ]
    },
    {
      "cell_type": "code",
      "execution_count": null,
      "id": "0a487b9c",
      "metadata": {
        "id": "0a487b9c",
        "outputId": "fed95002-4719-4f4e-bce7-51cc7d9891e9"
      },
      "outputs": [
        {
          "name": "stdout",
          "output_type": "stream",
          "text": [
            "55\n",
            "10\n"
          ]
        }
      ],
      "source": [
        "a = int(input())\n",
        "b = 0\n",
        "c = 0\n",
        "while(c<a) :\n",
        "    b += 1\n",
        "    c += b\n",
        "    # print(b,c,sep='\\n')\n",
        "print(b)"
      ]
    },
    {
      "cell_type": "markdown",
      "source": [
        "0522"
      ],
      "metadata": {
        "id": "3likwYsSsIoM"
      },
      "id": "3likwYsSsIoM"
    },
    {
      "cell_type": "code",
      "execution_count": null,
      "id": "6dcd3940",
      "metadata": {
        "id": "6dcd3940"
      },
      "outputs": [],
      "source": [
        "# 6080 - [기초-종합] 주사위 2개 던지기(설명)(py)\n",
        "n,m = input().split()\n",
        "n = int(n)\n",
        "m = int(m)\n",
        "for i in range(1,n+1) :\n",
        "  for j in range(1,m+1) :\n",
        "    print(i,j)\n",
        "\n",
        "## 파이썬 인덱스는 -1해서 생각해야한다는 점을 잊지말자!!\n",
        "# range(1,3) : 1,2 이고, range(1,3+1)해야 1,2,3이 된다."
      ]
    },
    {
      "cell_type": "code",
      "source": [
        "# [기초-종합] 16진수 구구단 출력하기(py)\n",
        "n = int(input(),16) # 16진수는 0~8, A~F 까지 존재함 -> 이렇게 들어온 16진수를 정수값으로 변환해 저장\n",
        "for i in range(1,16) :\n",
        "  print('%X'%n,'*','%X'%i,'=','%X'%(n*i) ,sep='')\n",
        "  # '%X'%n : n을 16진수로 바꿔줌"
      ],
      "metadata": {
        "colab": {
          "base_uri": "https://localhost:8080/"
        },
        "id": "FPjNybOqjDds",
        "outputId": "d152674f-f3ee-4b76-832c-ba3e42db95cc"
      },
      "id": "FPjNybOqjDds",
      "execution_count": 1,
      "outputs": [
        {
          "output_type": "stream",
          "name": "stdout",
          "text": [
            "F\n",
            "F*1=F\n",
            "F*2=1E\n",
            "F*3=2D\n",
            "F*4=3C\n",
            "F*5=4B\n",
            "F*6=5A\n",
            "F*7=69\n",
            "F*8=78\n",
            "F*9=87\n",
            "F*A=96\n",
            "F*B=A5\n",
            "F*C=B4\n",
            "F*D=C3\n",
            "F*E=D2\n",
            "F*F=E1\n"
          ]
        }
      ]
    },
    {
      "cell_type": "code",
      "source": [
        "# 6082 : [기초-종합] 3 6 9 게임의 왕이 되자(설명)(py)\n",
        "x = int(input()) # 1~29\n",
        "for i in range(1,x+1) :\n",
        "  if ( (i%10 == 3) | (i%10 == 6) | (i%10 == 9)) : # 첫째자리수가 3,6,9일 경으 'X'출력\n",
        "    print('X', end=\" \") # 줄바꿈 없이 출력되도록 함 (뒤를 공백으로 대체)\n",
        "  else : print(i, end=' ')"
      ],
      "metadata": {
        "colab": {
          "base_uri": "https://localhost:8080/"
        },
        "id": "ckeuOM6gjiqB",
        "outputId": "20ba7c81-d522-4e9c-b9a0-5a1e88a8533c"
      },
      "id": "ckeuOM6gjiqB",
      "execution_count": 8,
      "outputs": [
        {
          "output_type": "execute_result",
          "data": {
            "text/plain": [
              "True"
            ]
          },
          "metadata": {},
          "execution_count": 8
        }
      ]
    },
    {
      "cell_type": "code",
      "source": [
        "# 6083 : [기초-종합] 빛 섞어 색 만들기(설명)(py)\n",
        "r,g,b = input().split() # r,g,b에 대해 0~127까지 가능\n",
        "\n",
        "for red in range(0,int(r)) :\n",
        "  for green in range(0,int(g)) :\n",
        "    for blue in range(0,int(b)) :\n",
        "      print(red,green,blue)\n",
        "\n",
        "print(int(r)*int(g)*int(b))"
      ],
      "metadata": {
        "colab": {
          "base_uri": "https://localhost:8080/"
        },
        "id": "534v-48gqLs-",
        "outputId": "4744d8e6-b47f-4a50-e9d1-020a3af9a5ca"
      },
      "id": "534v-48gqLs-",
      "execution_count": 10,
      "outputs": [
        {
          "output_type": "stream",
          "name": "stdout",
          "text": [
            "1 3 5\n",
            "0 0 0\n",
            "0 0 1\n",
            "0 0 2\n",
            "0 0 3\n",
            "0 0 4\n",
            "0 1 0\n",
            "0 1 1\n",
            "0 1 2\n",
            "0 1 3\n",
            "0 1 4\n",
            "0 2 0\n",
            "0 2 1\n",
            "0 2 2\n",
            "0 2 3\n",
            "0 2 4\n",
            "15\n"
          ]
        }
      ]
    },
    {
      "cell_type": "code",
      "source": [
        "# 6084 : [기초-종합] 소리 파일 저장용량 계산하기(py)\n",
        "# h, b, c, s 가 공백을 두고 입력된다.\n",
        "# h는 48,000이하, b는 32이하(단, 8의배수), c는 5이하, s는 6,000이하의 자연수이다\n",
        "\n",
        "h,b,c,s = input().split()\n",
        "h = int(h)\n",
        "b = int(b)\n",
        "c = int(c)\n",
        "s = int(s)\n",
        "print(round(h*b*c*s/8/1024/1024,1),'MB',sep=' ')"
      ],
      "metadata": {
        "id": "BfcKIvW_sSAb"
      },
      "id": "BfcKIvW_sSAb",
      "execution_count": null,
      "outputs": []
    },
    {
      "cell_type": "code",
      "source": [
        "# 6085 : [기초-종합] 그림 파일 저장용량 계산하기(py)\n",
        "w, h, b = input().split()\n",
        "\n",
        "w = int(w)\n",
        "h = int(h)\n",
        "b = int(b)\n",
        "\n",
        "print(\"{:.2f}\".format(w*h*b/8/1024/1024), 'MB') # 무조건 소수점 둘째자리까지 표현 되도록 지정"
      ],
      "metadata": {
        "colab": {
          "base_uri": "https://localhost:8080/"
        },
        "id": "gIA-tVL6t-_c",
        "outputId": "2ebab96f-c748-4903-e233-a344ba103b72"
      },
      "id": "gIA-tVL6t-_c",
      "execution_count": 17,
      "outputs": [
        {
          "output_type": "stream",
          "name": "stdout",
          "text": [
            "1024 768 24\n",
            "2.25 MB\n"
          ]
        }
      ]
    }
  ],
  "metadata": {
    "kernelspec": {
      "display_name": "Python 3 (ipykernel)",
      "language": "python",
      "name": "python3"
    },
    "language_info": {
      "codemirror_mode": {
        "name": "ipython",
        "version": 3
      },
      "file_extension": ".py",
      "mimetype": "text/x-python",
      "name": "python",
      "nbconvert_exporter": "python",
      "pygments_lexer": "ipython3",
      "version": "3.9.7"
    },
    "colab": {
      "name": "코드업 기초 100제.ipynb",
      "provenance": [],
      "collapsed_sections": [],
      "include_colab_link": true
    }
  },
  "nbformat": 4,
  "nbformat_minor": 5
}